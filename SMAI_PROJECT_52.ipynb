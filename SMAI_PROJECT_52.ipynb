{
  "cells": [
    {
      "cell_type": "code",
      "execution_count": 1,
      "metadata": {
        "colab": {
          "base_uri": "https://localhost:8080/"
        },
        "id": "3DAgIREJk6o3",
        "outputId": "7f026c4e-fd4b-46a0-918d-a7a6b3840173"
      },
      "outputs": [
        {
          "output_type": "stream",
          "name": "stdout",
          "text": [
            "[nltk_data] Downloading package punkt to /root/nltk_data...\n",
            "[nltk_data]   Unzipping tokenizers/punkt.zip.\n",
            "[nltk_data] Downloading package stopwords to /root/nltk_data...\n",
            "[nltk_data]   Unzipping corpora/stopwords.zip.\n",
            "[nltk_data] Downloading package averaged_perceptron_tagger to\n",
            "[nltk_data]     /root/nltk_data...\n",
            "[nltk_data]   Unzipping taggers/averaged_perceptron_tagger.zip.\n",
            "[nltk_data] Downloading package wordnet to /root/nltk_data...\n",
            "[nltk_data]   Unzipping corpora/wordnet.zip.\n"
          ]
        }
      ],
      "source": [
        "import nltk\n",
        "nltk.download('punkt') \n",
        "nltk.download('stopwords')\n",
        "nltk.download('averaged_perceptron_tagger')\n",
        "nltk.download('wordnet')\n",
        "\n",
        "import numpy as np\n",
        "import pandas as pd\n",
        "import sklearn\n",
        "from tensorflow import keras   \n",
        "from keras.models import Sequential\n",
        "from keras.layers import Dense, Conv2D, Flatten, Dropout\n",
        "from keras.callbacks import EarlyStopping\n",
        "from keras.preprocessing.text import one_hot"
      ]
    },
    {
      "cell_type": "code",
      "execution_count": 2,
      "metadata": {
        "id": "5_l7jtZLmWY_"
      },
      "outputs": [],
      "source": [
        "data = pd.read_excel('/content/Data set.xlsx')\n",
        "X = data[\"Text\"]\n",
        "Y = data[\"Sentiment\"]"
      ]
    },
    {
      "cell_type": "code",
      "execution_count": 3,
      "metadata": {
        "id": "-Hee8cKepLSg",
        "colab": {
          "base_uri": "https://localhost:8080/"
        },
        "outputId": "d06c10f5-785f-46ab-ecdc-0b083be01f29"
      },
      "outputs": [
        {
          "output_type": "stream",
          "name": "stdout",
          "text": [
            "Collecting contractions\n",
            "  Downloading contractions-0.1.72-py2.py3-none-any.whl (8.3 kB)\n",
            "Collecting textsearch>=0.0.21\n",
            "  Downloading textsearch-0.0.21-py2.py3-none-any.whl (7.5 kB)\n",
            "Collecting pyahocorasick\n",
            "  Downloading pyahocorasick-1.4.4-cp37-cp37m-manylinux_2_17_x86_64.manylinux2014_x86_64.whl (106 kB)\n",
            "\u001b[K     |████████████████████████████████| 106 kB 4.0 MB/s \n",
            "\u001b[?25hCollecting anyascii\n",
            "  Downloading anyascii-0.3.1-py3-none-any.whl (287 kB)\n",
            "\u001b[K     |████████████████████████████████| 287 kB 23.6 MB/s \n",
            "\u001b[?25hInstalling collected packages: pyahocorasick, anyascii, textsearch, contractions\n",
            "Successfully installed anyascii-0.3.1 contractions-0.1.72 pyahocorasick-1.4.4 textsearch-0.0.21\n"
          ]
        }
      ],
      "source": [
        "import re\n",
        "!pip install contractions\n",
        "import contractions\n",
        "from nltk.tokenize import word_tokenize\n",
        "from nltk import pos_tag\n",
        "from nltk.corpus import stopwords, wordnet\n",
        "from nltk.stem import WordNetLemmatizer\n",
        "\n",
        "stop_words = set(stopwords.words(\"english\"))\n",
        "lemmatizer = WordNetLemmatizer()\n",
        "\n",
        "def tag_replace(nltk_tag):\n",
        "    if nltk_tag.startswith('J'):\n",
        "        return 'a'\n",
        "    elif nltk_tag.startswith('V'):\n",
        "        return 'v'\n",
        "    elif nltk_tag.startswith('N'):\n",
        "        return 'n'\n",
        "    elif nltk_tag.startswith('R'):\n",
        "        return 'r'\n",
        "    else:         \n",
        "        return None\n",
        "\n",
        "def preprocess_data(sentence):\n",
        "  # Lowercasing the senctences\n",
        "  sentence = sentence.lower()\n",
        "\n",
        "  # Urls and punctuation removal\n",
        "  sentence = re.sub(r'^http\\S+', '', sentence)\n",
        "  sentence = re.sub(r\"[,.;@#?!&$]+\\ *\", \" \", sentence)\n",
        "  \n",
        "  # Replacing contracted words with expanded words\n",
        "  sentence = contractions.fix(sentence)\n",
        "\n",
        "  # Brackets and number removal\n",
        "  sentence = re.sub(\"[^a-zA-Z]\",\" \", sentence)\n",
        "\n",
        "  # Word tokenizarion\n",
        "  words = word_tokenize(sentence)\n",
        "\n",
        "  # stop words removal \n",
        "  words = [ word for word in words if word not in stop_words ]\n",
        "\n",
        "  # Adding parts of speech to the words for better lemmatization\n",
        "  pos_tagged_words = pos_tag(words)\n",
        "  words = []\n",
        "  for word, tag in pos_tagged_words:\n",
        "    tag = tag_replace(tag)\n",
        "    if tag is not None:\n",
        "      words.append(lemmatizer.lemmatize(word, tag))\n",
        "    else:\n",
        "      words.append(word)\n",
        "  return \" \".join(words)\n"
      ]
    },
    {
      "cell_type": "code",
      "execution_count": 4,
      "metadata": {
        "id": "frBdW5byC87D"
      },
      "outputs": [],
      "source": [
        "preprocessedX = []\n",
        "\n",
        "for sentence in X:\n",
        "  preprocessedX.append(preprocess_data(sentence))\n",
        "\n",
        "X = np.array(preprocessedX)\n",
        "Y = Y.map(lambda x: 1 if x =='POS' else 0)"
      ]
    },
    {
      "cell_type": "code",
      "execution_count": 5,
      "metadata": {
        "id": "gkBLCHnAHWpR"
      },
      "outputs": [],
      "source": [
        "from sklearn.model_selection import train_test_split\n",
        "from sklearn.feature_extraction.text import TfidfVectorizer\n",
        "from sklearn.feature_extraction.text import CountVectorizer\n",
        "\n",
        "\n",
        "# Using tfidf vectorizer\n",
        "vec = TfidfVectorizer(use_idf=True, min_df=2, max_features=5000)\n",
        "tfidf_X = np.array(vec.fit_transform(X).todense())\n",
        "X_train, X_test, y_train, y_test = train_test_split(tfidf_X, Y, test_size = 0.3, random_state = 42)\n",
        "\n",
        "# Using count vectorizer\n",
        "cvec = CountVectorizer(min_df=2, max_features=5000)\n",
        "c_X = np.array(cvec.fit_transform(X).todense())\n",
        "c_X_train, c_X_test, c_y_train, c_y_test = train_test_split(c_X, Y, test_size = 0.3, random_state = 42)"
      ]
    },
    {
      "cell_type": "code",
      "execution_count": 6,
      "metadata": {
        "id": "R5aka4KoKlgV"
      },
      "outputs": [],
      "source": [
        "from sklearn.svm import SVC\n",
        "from sklearn.naive_bayes import MultinomialNB\n",
        "from sklearn.naive_bayes import BernoulliNB\n",
        "from sklearn.tree import DecisionTreeClassifier \n",
        "from sklearn.linear_model import LogisticRegression\n",
        "from sklearn.metrics import confusion_matrix\n",
        "from keras.layers import LSTM\n",
        "from keras.layers import Embedding\n",
        "from keras.preprocessing.text import one_hot\n",
        "from keras.preprocessing.sequence import pad_sequences"
      ]
    },
    {
      "cell_type": "code",
      "source": [
        "def SVM(X_train,y_train,X_test):\n",
        "  SVM = SVC()\n",
        "  SVM.fit(X_train, y_train)\n",
        "  predicted_SVM = SVM.predict(X_test)\n",
        "  return predicted_SVM"
      ],
      "metadata": {
        "id": "LhxOBJHlwRe3"
      },
      "execution_count": 7,
      "outputs": []
    },
    {
      "cell_type": "code",
      "source": [
        "def MNB(X_train,y_train,X_test):\n",
        "  mnb = MultinomialNB()\n",
        "  mnb.fit(X_train,y_train)\n",
        "  predicted_MNB = mnb.predict(X_test)\n",
        "  return predicted_MNB"
      ],
      "metadata": {
        "id": "kFI00slowRYJ"
      },
      "execution_count": 8,
      "outputs": []
    },
    {
      "cell_type": "code",
      "source": [
        "def BNB(X_train,y_train,X_test):\n",
        "  bnb = BernoulliNB()\n",
        "  bnb.fit(X_train,y_train)\n",
        "  predicted_BNB = bnb.predict(X_test)\n",
        "  return predicted_BNB"
      ],
      "metadata": {
        "id": "5n-Ctn0ywRTz"
      },
      "execution_count": 9,
      "outputs": []
    },
    {
      "cell_type": "code",
      "source": [
        "def DTC(X_train,y_train,X_test):\n",
        "  dtc = DecisionTreeClassifier()\n",
        "  dtc.fit(X_train,y_train)\n",
        "  predicted_DTC = dtc.predict(X_test)\n",
        "  return predicted_DTC"
      ],
      "metadata": {
        "id": "COX1Up9rwROj"
      },
      "execution_count": 10,
      "outputs": []
    },
    {
      "cell_type": "code",
      "source": [
        "def LR(X_train,y_train,X_test):\n",
        "  lr = LogisticRegression(random_state=42)\n",
        "  lr.fit(X_train, y_train)\n",
        "  predicted_LR = lr.predict(X_test)\n",
        "  return predicted_LR"
      ],
      "metadata": {
        "id": "GoBN36_gwQ5_"
      },
      "execution_count": 11,
      "outputs": []
    },
    {
      "cell_type": "code",
      "source": [
        "def DENSE_NR(X_train,y_train, X_test): \n",
        "  nr = Sequential()\n",
        "  \n",
        "  nr.add(Dense(1024, activation='relu', input_shape=(X_train[0].shape[0],)))\n",
        "  nr.add(Dropout(0.2))\n",
        "  nr.add(Dense(128, activation='relu'))\n",
        "  nr.add(Dropout(0.2))\n",
        "  nr.add(Dense(24, activation='relu'))\n",
        "  nr.add(Dense(4, activation='relu'))\n",
        "  nr.add(Flatten())\n",
        "  nr.add(Dense(1, activation='sigmoid'))\n",
        "  \n",
        "  nr.compile(optimizer='sgd', loss='binary_crossentropy', metrics=['accuracy'])\n",
        "  nr.fit(X_train, y_train, batch_size = 10, epochs=20, verbose=0)\n",
        "  \n",
        "  predicted_NR = nr.predict(X_test)\n",
        "  \n",
        "  for i in range(len(predicted_NR)):\n",
        "    if(predicted_NR[i] <= 0.5):\n",
        "      predicted_NR[i] = 0\n",
        "    else:\n",
        "      predicted_NR[i] = 1\n",
        "\n",
        "  return predicted_NR"
      ],
      "metadata": {
        "id": "rMixcr97wc_0"
      },
      "execution_count": 12,
      "outputs": []
    },
    {
      "cell_type": "code",
      "source": [
        "from sklearn.metrics import mean_absolute_error\n",
        "y_pred = DENSE_NR(X_train, y_train, X_test)\n",
        "mae = mean_absolute_error(y_pred, y_test)\n"
      ],
      "metadata": {
        "id": "RnoSpl23x2an"
      },
      "execution_count": 13,
      "outputs": []
    },
    {
      "cell_type": "code",
      "source": [
        "def LSTM_NR():\n",
        "    oneHotX = []\n",
        "    for sent in X:\n",
        "      oneHotX.append(one_hot(sent, 10000))\n",
        "\n",
        "    oneHotX = np.array(oneHotX)\n",
        "    oneHotX = pad_sequences(oneHotX , maxlen = 50)\n",
        "\n",
        "    X_train, X_test, y_train, y_test = train_test_split(oneHotX, Y, test_size = 0.3, random_state = 42)\n",
        "  \n",
        "    model = Sequential()\n",
        "    model.add(Embedding(10000, 40,input_length = oneHotX.shape[1]))\n",
        "    model.add(LSTM(32))\n",
        "  \n",
        "    model.add(Dense(1,activation='sigmoid'))\n",
        "    model.compile(loss='binary_crossentropy',\n",
        "                  optimizer='rmsprop',\n",
        "                  metrics=['accuracy'])\n",
        "    model.fit(X_train, y_train.to_numpy(), batch_size = 10, epochs=2, verbose=0)\n",
        "    predicted_NR = model.predict(X_test)\n",
        "    \n",
        "    for i in range(len(predicted_NR)):\n",
        "      if(predicted_NR[i] <= 0.5):\n",
        "        predicted_NR[i] = 0\n",
        "      else:\n",
        "        predicted_NR[i] = 1\n",
        "    return y_test,predicted_NR"
      ],
      "metadata": {
        "id": "U63CqNUcwc3N"
      },
      "execution_count": 15,
      "outputs": []
    },
    {
      "cell_type": "code",
      "source": [
        "from sklearn.metrics import confusion_matrix\n",
        "\n",
        "classifiers = [SVM, MNB, BNB, DTC, LR,DENSE_NR]\n",
        "\n",
        "def getConMat(y_pred, y_test):\n",
        "  M = confusion_matrix(y_test, y_pred)\n",
        "  tn, fp, fn, tp = M.ravel() \n",
        "  acc = (tn+tp)/(tn+tp+fn+fp)\n",
        "  pr = tp/(tp+fp)\n",
        "  rec = tp/(tp+fn)\n",
        "  f1score = 2*pr*rec/(pr+rec)\n",
        "  return acc, pr, rec, f1score\n",
        "\n",
        "# Classification using tfidf scores\n",
        "def classify(X_train,y_train, X_test, y_test):\n",
        "  accuracy = []\n",
        "  precision = []\n",
        "  recall = []\n",
        "  f1scores = []\n",
        "  for classifier in classifiers:\n",
        "    y_pred = classifier(X_train, y_train, X_test)\n",
        "  \n",
        "    acc, pr, rec, f1 = getConMat(y_pred, y_test)\n",
        "    accuracy.append(acc)\n",
        "    precision.append(pr)\n",
        "    recall.append(rec)\n",
        "    f1scores.append(f1)\n",
        "\n",
        "  return accuracy, precision ,recall ,f1scores"
      ],
      "metadata": {
        "id": "csZb2Ulz4HGg"
      },
      "execution_count": 16,
      "outputs": []
    },
    {
      "cell_type": "code",
      "source": [
        "import matplotlib.pyplot as plt\n",
        "import seaborn as sns\n",
        "\n",
        "classifierLabels = ['SVM', 'MultinomialNB', 'BernoulliNB', 'Decision tree', 'Maximum entropy' ,'Dense_NR']\n",
        "  \n",
        "def showf1scores(f1scores, c_f1scores):\n",
        "  plt.plot(classifierLabels ,f1scores)\n",
        "  plt.plot(classifierLabels ,c_f1scores)\n",
        "  plt.legend([\"TF-IDF\",\"Count vectors\"])\n",
        "  plt.xlabel(\"Different classifiers\")\n",
        "  plt.ylabel(\"F1 scores\")\n",
        "  plt.show()\n",
        "\n",
        "def show_graphs(accuracy, recall, precision,vec):\n",
        "  barWidth = 0.25\n",
        "  fig = plt.subplots(figsize =(12, 8))\n",
        "  \n",
        "  br1 = np.arange(len(accuracy))\n",
        "  br2 = [x + barWidth for x in br1]\n",
        "  br3 = [x + barWidth for x in br2]\n",
        "  \n",
        "  # Make the plot\n",
        "  plt.bar(br1, accuracy, color ='r', width = barWidth,\n",
        "          edgecolor ='grey', label ='Accuracy')\n",
        "  plt.bar(br2, recall, color ='g', width = barWidth,\n",
        "          edgecolor ='grey', label ='Recall')\n",
        "  plt.bar(br3, precision, color ='b', width = barWidth,\n",
        "          edgecolor ='grey', label ='Precision')\n",
        "  \n",
        "  # Adding Xticks\n",
        "  plt.xticks([r + barWidth for r in range(len(accuracy))],classifierLabels)\n",
        "  plt.title(vec)\n",
        "  \n",
        "  plt.legend()\n",
        "  plt.show()  \n"
      ],
      "metadata": {
        "id": "I8Cs_YTfRAmV"
      },
      "execution_count": 21,
      "outputs": []
    },
    {
      "cell_type": "code",
      "source": [
        "accuracy, precision ,recall ,f1scores = classify(X_train, y_train, X_test, y_test)\n",
        "c_accuracy, c_precision ,c_recall ,c_f1scores = classify(c_X_train, c_y_train, c_X_test, c_y_test)\n",
        "\n",
        "\n",
        "show_graphs(accuracy, recall, precision,\"TF-IDF vectorizer\")\n",
        "show_graphs(c_accuracy, c_recall, c_precision,\"Count vectorizer\")\n",
        "showf1scores(f1scores, c_f1scores)\n"
      ],
      "metadata": {
        "id": "KR-06_vtTcw8",
        "colab": {
          "base_uri": "https://localhost:8080/",
          "height": 1000
        },
        "outputId": "f6e12859-ef77-4806-aecc-b2061b744539"
      },
      "execution_count": 24,
      "outputs": [
        {
          "output_type": "display_data",
          "data": {
            "text/plain": [
              "<Figure size 864x576 with 1 Axes>"
            ],
            "image/png": "[encoded data removed]"
          },
          "metadata": {
            "needs_background": "light"
          }
        },
        {
          "output_type": "display_data",
          "data": {
            "text/plain": [
              "<Figure size 864x576 with 1 Axes>"
            ],
            "image/png": "[encoded data removed]"
          },
          "metadata": {
            "needs_background": "light"
          }
        },
        {
          "output_type": "display_data",
          "data": {
            "text/plain": [
              "<Figure size 432x288 with 1 Axes>"
            ],
            "image/png": "[encoded data removed]"
          },
          "metadata": {
            "needs_background": "light"
          }
        }
      ]
    },
    {
      "cell_type": "code",
      "source": [
        "from tabulate import tabulate\n",
        "\n",
        "def make_table(a,b):\n",
        "  tf_idf = [\"TF_IDF vec\"]\n",
        "  count = [\"Count vec\"]\n",
        "  typevec = [\"Type of vectorizer\"]\n",
        "  tf_idf.extend(a)\n",
        "  count.extend(b)\n",
        "  data = [tf_idf, count]\n",
        "  typevec.extend(classifierLabels)\n",
        "  print(tabulate(data, headers=typevec, tablefmt=\"fancy_grid\"))\n",
        "\n",
        "print(\"Accuracy\")\n",
        "make_table(accuracy, c_accuracy)\n",
        "print(\"Recall\")\n",
        "make_table(recall, c_recall)\n",
        "print(\"Precision\")\n",
        "make_table(precision, c_precision)\n",
        "print(\"F1 scores\")\n",
        "make_table(f1scores, c_f1scores)"
      ],
      "metadata": {
        "id": "Na1lEouV8C9M",
        "colab": {
          "base_uri": "https://localhost:8080/"
        },
        "outputId": "3b2774b9-9ecd-4432-dd42-2f7c00a0ea51"
      },
      "execution_count": 25,
      "outputs": [
        {
          "output_type": "stream",
          "name": "stdout",
          "text": [
            "Accuracy\n",
            "╒══════════════════════╤══════════╤═════════════════╤═══════════════╤═════════════════╤═══════════════════╤════════════╕\n",
            "│ Type of vectorizer   │      SVM │   MultinomialNB │   BernoulliNB │   Decision tree │   Maximum entropy │   Dense_NR │\n",
            "╞══════════════════════╪══════════╪═════════════════╪═══════════════╪═════════════════╪═══════════════════╪════════════╡\n",
            "│ TF_IDF vec           │ 0.885    │        0.851667 │      0.876667 │        0.835    │          0.875    │   0.845    │\n",
            "├──────────────────────┼──────────┼─────────────────┼───────────────┼─────────────────┼───────────────────┼────────────┤\n",
            "│ Count vec            │ 0.863333 │        0.853333 │      0.876667 │        0.863333 │          0.863333 │   0.863333 │\n",
            "╘══════════════════════╧══════════╧═════════════════╧═══════════════╧═════════════════╧═══════════════════╧════════════╛\n",
            "Recall\n",
            "╒══════════════════════╤══════════╤═════════════════╤═══════════════╤═════════════════╤═══════════════════╤════════════╕\n",
            "│ Type of vectorizer   │      SVM │   MultinomialNB │   BernoulliNB │   Decision tree │   Maximum entropy │   Dense_NR │\n",
            "╞══════════════════════╪══════════╪═════════════════╪═══════════════╪═════════════════╪═══════════════════╪════════════╡\n",
            "│ TF_IDF vec           │ 0.927869 │        0.816393 │      0.859016 │        0.82623  │          0.908197 │   0.868852 │\n",
            "├──────────────────────┼──────────┼─────────────────┼───────────────┼─────────────────┼───────────────────┼────────────┤\n",
            "│ Count vec            │ 0.888525 │        0.832787 │      0.859016 │        0.845902 │          0.878689 │   0.839344 │\n",
            "╘══════════════════════╧══════════╧═════════════════╧═══════════════╧═════════════════╧═══════════════════╧════════════╛\n",
            "Precision\n",
            "╒══════════════════════╤══════════╤═════════════════╤═══════════════╤═════════════════╤═══════════════════╤════════════╕\n",
            "│ Type of vectorizer   │      SVM │   MultinomialNB │   BernoulliNB │   Decision tree │   Maximum entropy │   Dense_NR │\n",
            "╞══════════════════════╪══════════╪═════════════════╪═══════════════╪═════════════════╪═══════════════════╪════════════╡\n",
            "│ TF_IDF vec           │ 0.857576 │        0.882979 │      0.894198 │        0.845638 │          0.854938 │   0.833333 │\n",
            "├──────────────────────┼──────────┼─────────────────┼───────────────┼─────────────────┼───────────────────┼────────────┤\n",
            "│ Count vec            │ 0.84953  │        0.872852 │      0.894198 │        0.880546 │          0.85623  │   0.885813 │\n",
            "╘══════════════════════╧══════════╧═════════════════╧═══════════════╧═════════════════╧═══════════════════╧════════════╛\n",
            "F1 scores\n",
            "╒══════════════════════╤══════════╤═════════════════╤═══════════════╤═════════════════╤═══════════════════╤════════════╕\n",
            "│ Type of vectorizer   │      SVM │   MultinomialNB │   BernoulliNB │   Decision tree │   Maximum entropy │   Dense_NR │\n",
            "╞══════════════════════╪══════════╪═════════════════╪═══════════════╪═════════════════╪═══════════════════╪════════════╡\n",
            "│ TF_IDF vec           │ 0.891339 │        0.848382 │      0.876254 │        0.835821 │          0.880763 │   0.850722 │\n",
            "├──────────────────────┼──────────┼─────────────────┼───────────────┼─────────────────┼───────────────────┼────────────┤\n",
            "│ Count vec            │ 0.86859  │        0.852349 │      0.876254 │        0.862876 │          0.867314 │   0.861953 │\n",
            "╘══════════════════════╧══════════╧═════════════════╧═══════════════╧═════════════════╧═══════════════════╧════════════╛\n"
          ]
        }
      ]
    },
    {
      "cell_type": "code",
      "source": [
        "LSTM_test, LSTM_pred = LSTM_NR()\n",
        "acc, pr, rec, f1score = getConMat(LSTM_pred, LSTM_test)\n",
        "\n",
        "data = [[\"Accuracy\", acc, accuracy[0]],\n",
        "        [\"Precision\", pr, precision[0]],\n",
        "        [\"Recall\", rec, recall[0]],\n",
        "        [\"F1 scores\", f1score, f1scores[0]]\n",
        "      ]\n",
        "headers = [\"Classifiers\", \"SVM\",\"LSTM\"]\n",
        "\n",
        "print(tabulate(data, headers=headers, tablefmt=\"fancy_grid\"))"
      ],
      "metadata": {
        "colab": {
          "base_uri": "https://localhost:8080/"
        },
        "id": "HgM4hgEU8cU6",
        "outputId": "cd7d7f13-1679-4ca9-96d0-80cc444e212e"
      },
      "execution_count": 26,
      "outputs": [
        {
          "output_type": "stream",
          "name": "stderr",
          "text": [
            "/usr/local/lib/python3.7/dist-packages/ipykernel_launcher.py:6: VisibleDeprecationWarning: Creating an ndarray from ragged nested sequences (which is a list-or-tuple of lists-or-tuples-or ndarrays with different lengths or shapes) is deprecated. If you meant to do this, you must specify 'dtype=object' when creating the ndarray.\n",
            "  \n"
          ]
        },
        {
          "output_type": "stream",
          "name": "stdout",
          "text": [
            "╒═══════════════╤══════════╤══════════╕\n",
            "│ Classifiers   │      SVM │     LSTM │\n",
            "╞═══════════════╪══════════╪══════════╡\n",
            "│ Accuracy      │ 0.801667 │ 0.885    │\n",
            "├───────────────┼──────────┼──────────┤\n",
            "│ Precision     │ 0.773529 │ 0.857576 │\n",
            "├───────────────┼──────────┼──────────┤\n",
            "│ Recall        │ 0.862295 │ 0.927869 │\n",
            "├───────────────┼──────────┼──────────┤\n",
            "│ F1 scores     │ 0.815504 │ 0.891339 │\n",
            "╘═══════════════╧══════════╧══════════╛\n"
          ]
        }
      ]
    },
    {
      "cell_type": "code",
      "source": [
        ""
      ],
      "metadata": {
        "id": "_91pgT-rktQa"
      },
      "execution_count": null,
      "outputs": []
    }
  ],
  "metadata": {
    "colab": {
      "name": "SMAI_PROJECT_52.ipynb",
      "provenance": [],
      "collapsed_sections": []
    },
    "kernelspec": {
      "display_name": "Python 3",
      "name": "python3"
    },
    "language_info": {
      "name": "python"
    },
    "accelerator": "GPU"
  },
  "nbformat": 4,
  "nbformat_minor": 0
}